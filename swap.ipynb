{
  "nbformat": 4,
  "nbformat_minor": 0,
  "metadata": {
    "colab": {
      "provenance": [],
      "authorship_tag": "ABX9TyMvq/C7Yy+B5PNZrVty5R2f",
      "include_colab_link": true
    },
    "kernelspec": {
      "name": "python3",
      "display_name": "Python 3"
    },
    "language_info": {
      "name": "python"
    }
  },
  "cells": [
    {
      "cell_type": "markdown",
      "metadata": {
        "id": "view-in-github",
        "colab_type": "text"
      },
      "source": [
        "<a href=\"https://colab.research.google.com/github/souravbiswas101/first-projects/blob/main/swap.ipynb\" target=\"_parent\"><img src=\"https://colab.research.google.com/assets/colab-badge.svg\" alt=\"Open In Colab\"/></a>"
      ]
    },
    {
      "cell_type": "code",
      "execution_count": 7,
      "metadata": {
        "colab": {
          "base_uri": "https://localhost:8080/"
        },
        "id": "4uOVNazDJmRB",
        "outputId": "69e1a308-13e9-481e-d7ea-0c7156cba6de"
      },
      "outputs": [
        {
          "output_type": "stream",
          "name": "stdout",
          "text": [
            "print a =  10 \n",
            "print b =  5\n"
          ]
        }
      ],
      "source": [
        "a = 5\n",
        "b = 10\n",
        "temp = a\n",
        "a = b\n",
        "b = temp\n",
        "\n",
        "print(\"print a = \", a,  \"\\nprint b = \", b)"
      ]
    }
  ]
}